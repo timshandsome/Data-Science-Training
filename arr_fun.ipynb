{
 "cells": [
  {
   "cell_type": "code",
   "execution_count": 67,
   "metadata": {},
   "outputs": [],
   "source": [
    "import numpy as np\n",
    "import random"
   ]
  },
  {
   "cell_type": "code",
   "execution_count": 68,
   "metadata": {},
   "outputs": [],
   "source": [
    "def normalize(arr, arr_max, arr_min):\n",
    "    ran = arr_max - arr_min\n",
    "    arr_nor = []\n",
    "    for n in range(len(arr)):\n",
    "         arr_nor.append((arr[n] - arr_min) / arr_max)\n",
    "    return arr_nor"
   ]
  },
  {
   "cell_type": "code",
   "execution_count": 69,
   "metadata": {},
   "outputs": [
    {
     "name": "stdout",
     "output_type": "stream",
     "text": [
      "[10, 1, 4, 8, 7, 7, 9, 5, 7, 8, 3, 3, 0, 5, 8, 0, 6, 4, 4, 7, 9, 2, 0, 10, 10]\n",
      "----------------------------------------------------------\n",
      "[[1.  0.1 0.4 0.8 0.7]\n",
      " [0.7 0.9 0.5 0.7 0.8]\n",
      " [0.3 0.3 0.  0.5 0.8]\n",
      " [0.  0.6 0.4 0.4 0.7]\n",
      " [0.9 0.2 0.  1.  1. ]]\n"
     ]
    }
   ],
   "source": [
    "arr = []\n",
    "for n in np.arange(25):\n",
    "    arr.append(random.randint(0, 10))\n",
    "arr_max = np.max(arr)\n",
    "arr_min = np.min(arr)\n",
    "arr_nor = normalize(arr, arr_max, arr_min)\n",
    "arr_reshape = np.reshape(arr_nor,(5,5))\n",
    "print(arr)\n",
    "print('----------------------------------------------------------')\n",
    "print(arr_reshape)"
   ]
  },
  {
   "cell_type": "code",
   "execution_count": 70,
   "metadata": {},
   "outputs": [
    {
     "name": "stdout",
     "output_type": "stream",
     "text": [
      "[ 0  1  2  3  4  5  6  7  8 -1]\n"
     ]
    }
   ],
   "source": [
    "arr2 = np.arange(10)\n",
    "ind = np.where(arr2 == np.max(arr2))\n",
    "arr2[ind] = -1\n",
    "print(arr2)"
   ]
  },
  {
   "cell_type": "code",
   "execution_count": null,
   "metadata": {},
   "outputs": [],
   "source": []
  },
  {
   "cell_type": "code",
   "execution_count": 75,
   "metadata": {},
   "outputs": [
    {
     "data": {
      "text/plain": [
       "(array([ 1,  7, 13, 19, 25], dtype=int64),)"
      ]
     },
     "execution_count": 75,
     "metadata": {},
     "output_type": "execute_result"
    }
   ],
   "source": [
    "array1 = np.arange(30)\n",
    "array1_reshape = np.reshape(array1,(5,6))\n",
    "np.where(array1 % 6 == 1)"
   ]
  },
  {
   "cell_type": "code",
   "execution_count": null,
   "metadata": {},
   "outputs": [],
   "source": []
  },
  {
   "cell_type": "code",
   "execution_count": null,
   "metadata": {},
   "outputs": [],
   "source": []
  },
  {
   "cell_type": "code",
   "execution_count": null,
   "metadata": {},
   "outputs": [],
   "source": []
  },
  {
   "cell_type": "code",
   "execution_count": null,
   "metadata": {},
   "outputs": [],
   "source": []
  },
  {
   "cell_type": "code",
   "execution_count": null,
   "metadata": {},
   "outputs": [],
   "source": []
  },
  {
   "cell_type": "code",
   "execution_count": null,
   "metadata": {},
   "outputs": [],
   "source": []
  },
  {
   "cell_type": "code",
   "execution_count": null,
   "metadata": {},
   "outputs": [],
   "source": []
  },
  {
   "cell_type": "code",
   "execution_count": null,
   "metadata": {},
   "outputs": [],
   "source": []
  },
  {
   "cell_type": "code",
   "execution_count": null,
   "metadata": {},
   "outputs": [],
   "source": []
  },
  {
   "cell_type": "code",
   "execution_count": null,
   "metadata": {},
   "outputs": [],
   "source": []
  },
  {
   "cell_type": "code",
   "execution_count": null,
   "metadata": {},
   "outputs": [],
   "source": []
  },
  {
   "cell_type": "code",
   "execution_count": null,
   "metadata": {},
   "outputs": [],
   "source": []
  },
  {
   "cell_type": "code",
   "execution_count": null,
   "metadata": {},
   "outputs": [],
   "source": []
  },
  {
   "cell_type": "code",
   "execution_count": null,
   "metadata": {},
   "outputs": [],
   "source": []
  }
 ],
 "metadata": {
  "kernelspec": {
   "display_name": "Python 3",
   "language": "python",
   "name": "python3"
  },
  "language_info": {
   "codemirror_mode": {
    "name": "ipython",
    "version": 3
   },
   "file_extension": ".py",
   "mimetype": "text/x-python",
   "name": "python",
   "nbconvert_exporter": "python",
   "pygments_lexer": "ipython3",
   "version": "3.8.3"
  }
 },
 "nbformat": 4,
 "nbformat_minor": 4
}
