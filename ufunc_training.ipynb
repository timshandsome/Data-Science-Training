{
 "cells": [
  {
   "cell_type": "code",
   "execution_count": 1,
   "metadata": {},
   "outputs": [],
   "source": [
    "import numpy as np\n",
    "import math"
   ]
  },
  {
   "cell_type": "code",
   "execution_count": 2,
   "metadata": {},
   "outputs": [
    {
     "name": "stdout",
     "output_type": "stream",
     "text": [
      "60.0 dB\n"
     ]
    }
   ],
   "source": [
    "# Lp = 20 log10(Prms/Pref) dB\n",
    "V1 = 20000\n",
    "V0 = 20\n",
    "Lp = 20*np.log10(V1/V0)\n",
    "print(Lp,'dB')"
   ]
  },
  {
   "cell_type": "code",
   "execution_count": 3,
   "metadata": {},
   "outputs": [
    {
     "name": "stdout",
     "output_type": "stream",
     "text": [
      "0.09999999999999999\n"
     ]
    }
   ],
   "source": [
    "# 20*np.log10(V1_1/20) = 30\n",
    "# np.log10(V1_1/20) = 3/2\n",
    "# np.log10(V1_1) - np.log10(20) = 3/2\n",
    "# np.log10(V1_1) = 3/2 + np.log10(20)\n",
    "V1_1 = np.power(10,(3/2 + np.log10(20)))\n",
    "V1_2 = np.power(10,(5/2 + np.log10(20)))\n",
    "rate = V1_1 / V1_2\n",
    "print(rate)"
   ]
  }
 ],
 "metadata": {
  "kernelspec": {
   "display_name": "Python 3",
   "language": "python",
   "name": "python3"
  },
  "language_info": {
   "codemirror_mode": {
    "name": "ipython",
    "version": 3
   },
   "file_extension": ".py",
   "mimetype": "text/x-python",
   "name": "python",
   "nbconvert_exporter": "python",
   "pygments_lexer": "ipython3",
   "version": "3.8.3"
  }
 },
 "nbformat": 4,
 "nbformat_minor": 4
}
