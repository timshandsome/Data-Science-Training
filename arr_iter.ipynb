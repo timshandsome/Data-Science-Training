{
 "cells": [
  {
   "cell_type": "code",
   "execution_count": 1,
   "metadata": {},
   "outputs": [],
   "source": [
    "import numpy as np\n",
    "import random"
   ]
  },
  {
   "cell_type": "code",
   "execution_count": 31,
   "metadata": {},
   "outputs": [
    {
     "name": "stdout",
     "output_type": "stream",
     "text": [
      "[[3 4 1]\n",
      " [2 2 4]]\n",
      "[[1 4 4 5 2]\n",
      " [2 1 4 3 4]\n",
      " [5 1 2 3 2]]\n",
      "[[16 17 30 30 24]\n",
      " [26 14 24 28 20]]\n"
     ]
    }
   ],
   "source": [
    "arr = []\n",
    "for i in range(21):\n",
    "    arr.append(random.randint(1,5))\n",
    "arr1 = arr[0:6]; arr2 = arr[6:]\n",
    "# print(arr); print(arr1); print(arr2)\n",
    "arr1_reshape = np.reshape(arr1,(2,3))\n",
    "arr2_reshape = np.reshape(arr2,(3,5))\n",
    "print(arr1_reshape); print(arr2_reshape)\n",
    "arr_mul = arr1_reshape.dot(arr2_reshape)\n",
    "print(arr_mul)"
   ]
  },
  {
   "cell_type": "code",
   "execution_count": null,
   "metadata": {},
   "outputs": [],
   "source": []
  },
  {
   "cell_type": "code",
   "execution_count": 40,
   "metadata": {},
   "outputs": [
    {
     "name": "stdout",
     "output_type": "stream",
     "text": [
      "[13.  2.]\n",
      "[[ 0.93632918 -0.70710678]\n",
      " [ 0.35112344  0.70710678]]\n",
      "[[ 9.45454545 -1.09845872]\n",
      " [-1.76054344  1.45454545]]\n"
     ]
    }
   ],
   "source": [
    "array1 = np.array([[10, 8], [3, 5]])\n",
    "e, v = np.linalg.eig(array1)\n",
    "print(e); print(v)\n",
    "y = v * np.diag(e) * np.linalg.inv(v)\n",
    "print(y)"
   ]
  },
  {
   "cell_type": "code",
   "execution_count": null,
   "metadata": {},
   "outputs": [],
   "source": []
  },
  {
   "cell_type": "code",
   "execution_count": null,
   "metadata": {},
   "outputs": [],
   "source": []
  },
  {
   "cell_type": "code",
   "execution_count": null,
   "metadata": {},
   "outputs": [],
   "source": []
  },
  {
   "cell_type": "code",
   "execution_count": null,
   "metadata": {},
   "outputs": [],
   "source": []
  }
 ],
 "metadata": {
  "kernelspec": {
   "display_name": "Python 3",
   "language": "python",
   "name": "python3"
  },
  "language_info": {
   "codemirror_mode": {
    "name": "ipython",
    "version": 3
   },
   "file_extension": ".py",
   "mimetype": "text/x-python",
   "name": "python",
   "nbconvert_exporter": "python",
   "pygments_lexer": "ipython3",
   "version": "3.8.3"
  }
 },
 "nbformat": 4,
 "nbformat_minor": 4
}
