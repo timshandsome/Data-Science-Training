{
 "cells": [
  {
   "cell_type": "code",
   "execution_count": 1,
   "metadata": {},
   "outputs": [],
   "source": [
    "import numpy as np"
   ]
  },
  {
   "cell_type": "code",
   "execution_count": 2,
   "metadata": {},
   "outputs": [],
   "source": [
    "english_score = np.array([55,89,76,65,48,70])\n",
    "math_score    = np.array([60,85,60,68,np.nan,60])\n",
    "chinese_score = np.array([65,90,82,72,66,77])"
   ]
  },
  {
   "cell_type": "code",
   "execution_count": 3,
   "metadata": {},
   "outputs": [
    {
     "name": "stdout",
     "output_type": "stream",
     "text": [
      "english_score_mean: 67.16666666666667\n",
      "english_score_max : 89\n",
      "english_score_min : 48\n",
      "english_score_std : 13.433995020924426\n",
      "-----------------------------------------------\n",
      "math_score_mean   : 66.6\n",
      "math_score_max    : 85.0\n",
      "math_score_min    : 60.0\n",
      "math_score_std    : 9.707728879609279\n",
      "-----------------------------------------------\n",
      "chinese_score_mean: 75.33333333333333\n",
      "chinese_score_max : 90\n",
      "chinese_score_min : 65\n",
      "chinese_score_std : 8.825468196582484\n"
     ]
    }
   ],
   "source": [
    "en_mean = np.mean(english_score)\n",
    "en_max = np.max(english_score)\n",
    "en_min = np.min(english_score)\n",
    "en_std = np.std(english_score)\n",
    "ma_mean = np.nanmean(math_score)\n",
    "ma_max = np.nanmax(math_score)\n",
    "ma_min = np.nanmin(math_score)\n",
    "ma_std = np.nanstd(math_score)\n",
    "ch_mean = np.mean(chinese_score)\n",
    "ch_max = np.max(chinese_score)\n",
    "ch_min = np.min(chinese_score)\n",
    "ch_std = np.std(chinese_score)\n",
    "print('english_score_mean:', en_mean)\n",
    "print('english_score_max :', en_max)\n",
    "print('english_score_min :', en_min)\n",
    "print('english_score_std :', en_std)\n",
    "print('-----------------------------------------------')\n",
    "print('math_score_mean   :', ma_mean)\n",
    "print('math_score_max    :', ma_max)\n",
    "print('math_score_min    :', ma_min)\n",
    "print('math_score_std    :', ma_std)\n",
    "print('-----------------------------------------------')\n",
    "print('chinese_score_mean:', ch_mean)\n",
    "print('chinese_score_max :', ch_max)\n",
    "print('chinese_score_min :', ch_min)\n",
    "print('chinese_score_std :', ch_std)"
   ]
  },
  {
   "cell_type": "code",
   "execution_count": 4,
   "metadata": {},
   "outputs": [
    {
     "name": "stdout",
     "output_type": "stream",
     "text": [
      "new_math_score: [60. 85. 60. 68. 55. 60.]\n",
      "-----------------------------------------------\n",
      "math_score_mean: 64.66666666666667\n",
      "math_score_max : 85.0\n",
      "math_score_min : 55.0\n",
      "math_score_std : 9.860132971832694\n"
     ]
    }
   ],
   "source": [
    "math_score[np.where(np.isnan(math_score))] = 55\n",
    "print('new_math_score:', math_score)\n",
    "ma_mean = np.nanmean(math_score)\n",
    "ma_max = np.nanmax(math_score)\n",
    "ma_min = np.nanmin(math_score)\n",
    "ma_std = np.nanstd(math_score)\n",
    "print('-----------------------------------------------')\n",
    "print('math_score_mean:', ma_mean)\n",
    "print('math_score_max :', ma_max)\n",
    "print('math_score_min :', ma_min)\n",
    "print('math_score_std :', ma_std)"
   ]
  },
  {
   "cell_type": "code",
   "execution_count": 5,
   "metadata": {},
   "outputs": [
    {
     "name": "stdout",
     "output_type": "stream",
     "text": [
      "[[1.         0.97792828]\n",
      " [0.97792828 1.        ]]\n",
      "[[1.         0.74056803]\n",
      " [0.74056803 1.        ]]\n"
     ]
    }
   ],
   "source": [
    "c1 = np.corrcoef(chinese_score, english_score)\n",
    "c2 = np.corrcoef(chinese_score, math_score)\n",
    "print(c1)\n",
    "print(c2)"
   ]
  }
 ],
 "metadata": {
  "kernelspec": {
   "display_name": "Python 3",
   "language": "python",
   "name": "python3"
  },
  "language_info": {
   "codemirror_mode": {
    "name": "ipython",
    "version": 3
   },
   "file_extension": ".py",
   "mimetype": "text/x-python",
   "name": "python",
   "nbconvert_exporter": "python",
   "pygments_lexer": "ipython3",
   "version": "3.8.3"
  }
 },
 "nbformat": 4,
 "nbformat_minor": 4
}
